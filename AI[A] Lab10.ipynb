{
 "cells": [
  {
   "cell_type": "code",
   "execution_count": 7,
   "id": "ad2bfa89",
   "metadata": {},
   "outputs": [
    {
     "ename": "SyntaxError",
     "evalue": "invalid syntax (446699380.py, line 2)",
     "output_type": "error",
     "traceback": [
      "\u001b[1;36m  Cell \u001b[1;32mIn[7], line 2\u001b[1;36m\u001b[0m\n\u001b[1;33m    adj=[][]\u001b[0m\n\u001b[1;37m           ^\u001b[0m\n\u001b[1;31mSyntaxError\u001b[0m\u001b[1;31m:\u001b[0m invalid syntax\n"
     ]
    }
   ],
   "source": [
    "\n",
    "def createMatrix(n):\n",
    "    adj=[]\n",
    "    for i in range(n):\n",
    "        row=[]\n",
    "        for j in range(n):\n",
    "            row.append(0)\n",
    "        adj.append(row)\n",
    "    return adj\n",
    "\n",
    "def printMatrix(M):\n",
    "    for i in M:\n",
    "        print(i,end=\"\\n\")\n",
    "    print()\n",
    "\n",
    "def assignQueen(Q):\n",
    "    # place queen randomly\n",
    "    Q[0][2]=1\n",
    "    Q[1][3]=1\n",
    "    Q[2][2]=1\n",
    "    Q[3][3]=1\n",
    "    return Q\n",
    "def rowAttack(coordinate, Q):\n",
    "def columnAttack(coordinate, Q):\n",
    "def diagonalAttack(coordinate, Q):\n",
    "\n",
    "def isAttack(Q):\n",
    "    queenCoordinates = createMatrix(range(Q))\n",
    "    underAttackCoordinates = []\n",
    "    for i in range(Q):\n",
    "        for j in range(Q):\n",
    "            if Q[i][j] == 1:\n",
    "                \n",
    "    \n",
    "\n",
    "board = createMatrix(4)\n",
    "printMatrix(board)\n",
    "Q=assignQueen(board)\n",
    "printMatrix(Q)\n",
    "#isAttack(Q)"
   ]
  },
  {
   "cell_type": "code",
   "execution_count": null,
   "id": "6f939c84",
   "metadata": {},
   "outputs": [],
   "source": []
  }
 ],
 "metadata": {
  "kernelspec": {
   "display_name": "Python 3 (ipykernel)",
   "language": "python",
   "name": "python3"
  },
  "language_info": {
   "codemirror_mode": {
    "name": "ipython",
    "version": 3
   },
   "file_extension": ".py",
   "mimetype": "text/x-python",
   "name": "python",
   "nbconvert_exporter": "python",
   "pygments_lexer": "ipython3",
   "version": "3.11.5"
  }
 },
 "nbformat": 4,
 "nbformat_minor": 5
}
