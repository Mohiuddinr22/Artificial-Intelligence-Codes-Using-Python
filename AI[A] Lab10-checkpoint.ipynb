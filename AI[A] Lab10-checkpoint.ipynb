{
 "cells": [
  {
   "cell_type": "code",
   "execution_count": 8,
   "id": "ad2bfa89",
   "metadata": {},
   "outputs": [
    {
     "name": "stdout",
     "output_type": "stream",
     "text": [
      "[0, 0, 0, 0]\n",
      "[0, 0, 0, 0]\n",
      "[0, 0, 0, 0]\n",
      "[0, 0, 0, 0]\n",
      "\n",
      "[0, 0, 1, 0]\n",
      "[0, 0, 0, 1]\n",
      "[0, 0, 1, 0]\n",
      "[0, 0, 0, 1]\n",
      "\n",
      "Attack in q1 and q2\n",
      "\n"
     ]
    }
   ],
   "source": [
    "\n",
    "def createMatrix(n):\n",
    "    adj=[]\n",
    "    for i in range(n):\n",
    "        row=[]\n",
    "        for j in range(n):\n",
    "            row.append(0)\n",
    "        adj.append(row)\n",
    "    return adj\n",
    "\n",
    "def printMatrix(M):\n",
    "    for i in M:\n",
    "        print(i,end=\"\\n\")\n",
    "    print()\n",
    "\n",
    "def assignQueen(Q):\n",
    "    # place queen randomly\n",
    "    Q[0][2]=1\n",
    "    Q[1][3]=1\n",
    "    Q[2][2]=1\n",
    "    Q[3][3]=1\n",
    "    return Q\n",
    "def isAttack(Q):\n",
    "    \n",
    "    \n",
    "\n",
    "Q = createMatrix(4)\n",
    "printMatrix(Q)\n",
    "Q=assignQueen(Q)\n",
    "printMatrix(Q)\n",
    "isAttack(Q)"
   ]
  },
  {
   "cell_type": "code",
   "execution_count": null,
   "id": "6f939c84",
   "metadata": {},
   "outputs": [],
   "source": []
  }
 ],
 "metadata": {
  "kernelspec": {
   "display_name": "Python 3 (ipykernel)",
   "language": "python",
   "name": "python3"
  },
  "language_info": {
   "codemirror_mode": {
    "name": "ipython",
    "version": 3
   },
   "file_extension": ".py",
   "mimetype": "text/x-python",
   "name": "python",
   "nbconvert_exporter": "python",
   "pygments_lexer": "ipython3",
   "version": "3.11.5"
  }
 },
 "nbformat": 4,
 "nbformat_minor": 5
}
